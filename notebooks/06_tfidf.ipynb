{
 "cells": [
  {
   "cell_type": "code",
   "id": "initial_id",
   "metadata": {
    "collapsed": true,
    "ExecuteTime": {
     "end_time": "2025-03-20T11:36:35.756837Z",
     "start_time": "2025-03-20T11:36:35.752860Z"
    }
   },
   "source": [
    "import pandas as pd\n",
    "import matplotlib.pyplot as plt\n",
    "from sklearn.model_selection import train_test_split\n",
    "from sklearn.feature_extraction.text import TfidfVectorizer\n",
    "from sklearn.svm import LinearSVC\n",
    "from sklearn.linear_model import LogisticRegression\n",
    "from sklearn.naive_bayes import MultinomialNB\n",
    "from xgboost import XGBClassifier\n",
    "from sklearn.ensemble import RandomForestClassifier\n",
    "from sklearn.metrics import accuracy_score, precision_score, recall_score, f1_score, classification_report, confusion_matrix\n",
    "from timeit import default_timer as timer"
   ],
   "outputs": [],
   "execution_count": 3
  },
  {
   "metadata": {
    "ExecuteTime": {
     "end_time": "2025-03-20T11:36:36.524708Z",
     "start_time": "2025-03-20T11:36:35.800809Z"
    }
   },
   "cell_type": "code",
   "source": "garminconnect_df = pd.read_csv(\"../data/processed/20250313_1503_garminconnect_df_cleaned_sentiment_textblob.csv\")",
   "id": "890e41a7bdf69a84",
   "outputs": [],
   "execution_count": 4
  },
  {
   "metadata": {
    "ExecuteTime": {
     "end_time": "2025-03-20T11:36:36.572893Z",
     "start_time": "2025-03-20T11:36:36.543850Z"
    }
   },
   "cell_type": "code",
   "source": [
    "garminconnect_df['sentiment_label_encoded'] = garminconnect_df['sentiment_label'].map({'positive': 1, 'negative': 0, 'neutral': 2})\n",
    "garminconnect_df = garminconnect_df[garminconnect_df['sentiment_label_encoded'] != 2]"
   ],
   "id": "e2364c974915b6be",
   "outputs": [],
   "execution_count": 5
  },
  {
   "metadata": {
    "ExecuteTime": {
     "end_time": "2025-03-20T11:36:36.623947Z",
     "start_time": "2025-03-20T11:36:36.605963Z"
    }
   },
   "cell_type": "code",
   "source": [
    "X = garminconnect_df['clean_content']\n",
    "y = garminconnect_df['sentiment_label_encoded']\n",
    "xtrain, xtest, ytrain, ytest = train_test_split(X, y, test_size=0.2, random_state=42)"
   ],
   "id": "c13c3594d119e4b5",
   "outputs": [],
   "execution_count": 6
  },
  {
   "metadata": {
    "ExecuteTime": {
     "end_time": "2025-03-20T11:36:37.417544Z",
     "start_time": "2025-03-20T11:36:36.643071Z"
    }
   },
   "cell_type": "code",
   "source": [
    "tfidf_vectorizer = TfidfVectorizer(stop_words='english', max_features=5000)\n",
    "\n",
    "start = timer()\n",
    "X_train_tfidf = tfidf_vectorizer.fit_transform(xtrain)\n",
    "X_test_tfidf = tfidf_vectorizer.transform(xtest)\n",
    "print(\"TF-IDF Vectorization Time:\", timer() - start)"
   ],
   "id": "9ec1da6e94c97e5c",
   "outputs": [
    {
     "name": "stdout",
     "output_type": "stream",
     "text": [
      "TF-IDF Vectorization Time: 0.7708327460022701\n"
     ]
    }
   ],
   "execution_count": 7
  },
  {
   "metadata": {
    "ExecuteTime": {
     "end_time": "2025-03-20T11:36:48.675909Z",
     "start_time": "2025-03-20T11:36:37.451583Z"
    }
   },
   "cell_type": "code",
   "source": [
    "svm = LinearSVC()\n",
    "lr = LogisticRegression(max_iter=1000)\n",
    "nb = MultinomialNB()\n",
    "xgb = XGBClassifier(use_label_encoder=False, eval_metric='logloss')\n",
    "rf = RandomForestClassifier(n_estimators=100, max_depth=3, max_features='sqrt', min_samples_leaf=4, bootstrap=True, n_jobs=-1, random_state=0)\n",
    "\n",
    "print(\"\\nTraining Models:\")\n",
    "start = timer(); svm.fit(X_train_tfidf, ytrain); print(\"SVM:\", timer() - start)\n",
    "start = timer(); lr.fit(X_train_tfidf, ytrain); print(\"Logistic Regression:\", timer() - start)\n",
    "start = timer(); nb.fit(X_train_tfidf, ytrain); print(\"Naive Bayes:\", timer() - start)\n",
    "start = timer(); xgb.fit(X_train_tfidf, ytrain); print(\"XGBoost:\", timer() - start)\n",
    "start = timer(); rf.fit(X_train_tfidf, ytrain); print(\"Random Forest:\", timer() - start)\n",
    "\n",
    "def evaluate_model(model, X_test, y_test, name=\"Model\"):\n",
    "    y_pred = model.predict(X_test)\n",
    "    acc = accuracy_score(y_test, y_pred)\n",
    "    prec = precision_score(y_test, y_pred)\n",
    "    rec = recall_score(y_test, y_pred)\n",
    "    f1 = f1_score(y_test, y_pred)\n",
    "    print(f\"\\n{name} Results:\")\n",
    "    print(f\"Accuracy: {acc:.4f} | Precision: {prec:.4f} | Recall: {rec:.4f} | F1 Score: {f1:.4f}\")\n",
    "    print(\"Classification Report:\\n\", classification_report(y_test, y_pred))\n",
    "    print(\"Confusion Matrix:\\n\", confusion_matrix(y_test, y_pred))\n",
    "    return acc\n",
    "\n",
    "acc_svm = evaluate_model(svm, X_test_tfidf, ytest, \"Linear SVM\")\n",
    "acc_lr = evaluate_model(lr, X_test_tfidf, ytest, \"Logistic Regression\")\n",
    "acc_nb = evaluate_model(nb, X_test_tfidf, ytest, \"Naive Bayes\")\n",
    "acc_xgb = evaluate_model(xgb, X_test_tfidf, ytest, \"XGBoost\")\n",
    "acc_rf = evaluate_model(rf, X_test_tfidf, ytest, \"Random Forest\")"
   ],
   "id": "dd4fcae9ce5800ed",
   "outputs": [
    {
     "name": "stdout",
     "output_type": "stream",
     "text": [
      "\n",
      "Training Models:\n",
      "SVM: 0.1271037940023234\n",
      "Logistic Regression: 0.10806080100155668\n",
      "Naive Bayes: 0.009392465002747485\n"
     ]
    },
    {
     "name": "stderr",
     "output_type": "stream",
     "text": [
      "/home/miellilas/Documents/pba/googleplay_garminconnect/venv/lib/python3.11/site-packages/xgboost/training.py:183: UserWarning: [18:36:37] WARNING: /workspace/src/learner.cc:738: \n",
      "Parameters: { \"use_label_encoder\" } are not used.\n",
      "\n",
      "  bst.update(dtrain, iteration=i, fobj=obj)\n"
     ]
    },
    {
     "name": "stdout",
     "output_type": "stream",
     "text": [
      "XGBoost: 10.43762014299864\n",
      "Random Forest: 0.35132761299973936\n",
      "\n",
      "Linear SVM Results:\n",
      "Accuracy: 0.9870 | Precision: 0.9909 | Recall: 0.9943 | F1 Score: 0.9926\n",
      "Classification Report:\n",
      "               precision    recall  f1-score   support\n",
      "\n",
      "           0       0.96      0.93      0.94      2183\n",
      "           1       0.99      0.99      0.99     16368\n",
      "\n",
      "    accuracy                           0.99     18551\n",
      "   macro avg       0.97      0.96      0.97     18551\n",
      "weighted avg       0.99      0.99      0.99     18551\n",
      "\n",
      "Confusion Matrix:\n",
      " [[ 2034   149]\n",
      " [   93 16275]]\n",
      "\n",
      "Logistic Regression Results:\n",
      "Accuracy: 0.9801 | Precision: 0.9813 | Recall: 0.9965 | F1 Score: 0.9888\n",
      "Classification Report:\n",
      "               precision    recall  f1-score   support\n",
      "\n",
      "           0       0.97      0.86      0.91      2183\n",
      "           1       0.98      1.00      0.99     16368\n",
      "\n",
      "    accuracy                           0.98     18551\n",
      "   macro avg       0.98      0.93      0.95     18551\n",
      "weighted avg       0.98      0.98      0.98     18551\n",
      "\n",
      "Confusion Matrix:\n",
      " [[ 1872   311]\n",
      " [   58 16310]]\n",
      "\n",
      "Naive Bayes Results:\n",
      "Accuracy: 0.9486 | Precision: 0.9641 | Recall: 0.9781 | F1 Score: 0.9711\n",
      "Classification Report:\n",
      "               precision    recall  f1-score   support\n",
      "\n",
      "           0       0.82      0.73      0.77      2183\n",
      "           1       0.96      0.98      0.97     16368\n",
      "\n",
      "    accuracy                           0.95     18551\n",
      "   macro avg       0.89      0.85      0.87     18551\n",
      "weighted avg       0.95      0.95      0.95     18551\n",
      "\n",
      "Confusion Matrix:\n",
      " [[ 1587   596]\n",
      " [  358 16010]]\n",
      "\n",
      "XGBoost Results:\n",
      "Accuracy: 0.9798 | Precision: 0.9817 | Recall: 0.9956 | F1 Score: 0.9886\n",
      "Classification Report:\n",
      "               precision    recall  f1-score   support\n",
      "\n",
      "           0       0.96      0.86      0.91      2183\n",
      "           1       0.98      1.00      0.99     16368\n",
      "\n",
      "    accuracy                           0.98     18551\n",
      "   macro avg       0.97      0.93      0.95     18551\n",
      "weighted avg       0.98      0.98      0.98     18551\n",
      "\n",
      "Confusion Matrix:\n",
      " [[ 1880   303]\n",
      " [   72 16296]]\n",
      "\n",
      "Random Forest Results:\n",
      "Accuracy: 0.8823 | Precision: 0.8823 | Recall: 1.0000 | F1 Score: 0.9375\n",
      "Classification Report:\n",
      "               precision    recall  f1-score   support\n",
      "\n",
      "           0       0.00      0.00      0.00      2183\n",
      "           1       0.88      1.00      0.94     16368\n",
      "\n",
      "    accuracy                           0.88     18551\n",
      "   macro avg       0.44      0.50      0.47     18551\n",
      "weighted avg       0.78      0.88      0.83     18551\n",
      "\n",
      "Confusion Matrix:\n",
      " [[    0  2183]\n",
      " [    0 16368]]\n"
     ]
    },
    {
     "name": "stderr",
     "output_type": "stream",
     "text": [
      "/home/miellilas/Documents/pba/googleplay_garminconnect/venv/lib/python3.11/site-packages/sklearn/metrics/_classification.py:1565: UndefinedMetricWarning: Precision is ill-defined and being set to 0.0 in labels with no predicted samples. Use `zero_division` parameter to control this behavior.\n",
      "  _warn_prf(average, modifier, f\"{metric.capitalize()} is\", len(result))\n",
      "/home/miellilas/Documents/pba/googleplay_garminconnect/venv/lib/python3.11/site-packages/sklearn/metrics/_classification.py:1565: UndefinedMetricWarning: Precision is ill-defined and being set to 0.0 in labels with no predicted samples. Use `zero_division` parameter to control this behavior.\n",
      "  _warn_prf(average, modifier, f\"{metric.capitalize()} is\", len(result))\n",
      "/home/miellilas/Documents/pba/googleplay_garminconnect/venv/lib/python3.11/site-packages/sklearn/metrics/_classification.py:1565: UndefinedMetricWarning: Precision is ill-defined and being set to 0.0 in labels with no predicted samples. Use `zero_division` parameter to control this behavior.\n",
      "  _warn_prf(average, modifier, f\"{metric.capitalize()} is\", len(result))\n"
     ]
    }
   ],
   "execution_count": 8
  },
  {
   "metadata": {
    "ExecuteTime": {
     "end_time": "2025-03-20T11:36:48.873852Z",
     "start_time": "2025-03-20T11:36:48.688998Z"
    }
   },
   "cell_type": "code",
   "source": [
    "model_names = ['SVM', 'LogReg', 'NaiveBayes', 'XGBoost', 'RandomForest']\n",
    "accuracies = [acc_svm, acc_lr, acc_nb, acc_xgb, acc_rf]\n",
    "\n",
    "plt.figure(figsize=(10, 6))\n",
    "plt.bar(model_names, accuracies)\n",
    "plt.xlabel(\"Models\")\n",
    "plt.ylabel(\"Accuracy\")\n",
    "plt.title(\"Model Accuracy Comparison with TF-IDF\")\n",
    "plt.ylim(0.0, 1.0)\n",
    "plt.grid(axis='y', linestyle='--', alpha=0.7)\n",
    "plt.show()"
   ],
   "id": "8d4b8177d8b04aaa",
   "outputs": [
    {
     "data": {
      "text/plain": [
       "<Figure size 1000x600 with 1 Axes>"
      ],
      "image/png": "[encoded data removed]"
     },
     "metadata": {},
     "output_type": "display_data"
    }
   ],
   "execution_count": 9
  }
 ],
 "metadata": {
  "kernelspec": {
   "display_name": "Python 3",
   "language": "python",
   "name": "python3"
  },
  "language_info": {
   "codemirror_mode": {
    "name": "ipython",
    "version": 2
   },
   "file_extension": ".py",
   "mimetype": "text/x-python",
   "name": "python",
   "nbconvert_exporter": "python",
   "pygments_lexer": "ipython2",
   "version": "2.7.6"
  }
 },
 "nbformat": 4,
 "nbformat_minor": 5
}
