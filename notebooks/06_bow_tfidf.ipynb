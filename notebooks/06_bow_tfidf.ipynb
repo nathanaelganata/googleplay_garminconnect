{
 "cells": [
  {
   "cell_type": "code",
   "id": "initial_id",
   "metadata": {
    "collapsed": true,
    "ExecuteTime": {
     "end_time": "2025-03-20T06:17:08.630528Z",
     "start_time": "2025-03-20T06:17:08.627065Z"
    }
   },
   "source": [
    "import pandas as pd\n",
    "from sklearn.feature_extraction.text import CountVectorizer\n",
    "from sklearn.feature_extraction.text import TfidfVectorizer"
   ],
   "outputs": [],
   "execution_count": 19
  },
  {
   "metadata": {
    "ExecuteTime": {
     "end_time": "2025-03-20T06:15:04.985909Z",
     "start_time": "2025-03-20T06:15:04.143972Z"
    }
   },
   "cell_type": "code",
   "source": [
    "garminconnect_df = pd.read_csv(\"../data/processed/20250313_1413_garminconnect_df_cleaned.csv\")\n",
    "garminconnect_df.info()"
   ],
   "id": "a6b502d94f24cbdf",
   "outputs": [
    {
     "name": "stdout",
     "output_type": "stream",
     "text": [
      "<class 'pandas.core.frame.DataFrame'>\n",
      "RangeIndex: 125178 entries, 0 to 125177\n",
      "Data columns (total 12 columns):\n",
      " #   Column                Non-Null Count   Dtype \n",
      "---  ------                --------------   ----- \n",
      " 0   reviewId              125178 non-null  object\n",
      " 1   userName              125178 non-null  object\n",
      " 2   userImage             125178 non-null  object\n",
      " 3   content               125178 non-null  object\n",
      " 4   score                 125178 non-null  int64 \n",
      " 5   thumbsUpCount         125178 non-null  int64 \n",
      " 6   reviewCreatedVersion  118529 non-null  object\n",
      " 7   at                    125178 non-null  object\n",
      " 8   replyContent          3815 non-null    object\n",
      " 9   repliedAt             3815 non-null    object\n",
      " 10  appVersion            118529 non-null  object\n",
      " 11  clean_content         125178 non-null  object\n",
      "dtypes: int64(2), object(10)\n",
      "memory usage: 11.5+ MB\n"
     ]
    }
   ],
   "execution_count": 14
  },
  {
   "metadata": {},
   "cell_type": "markdown",
   "source": "## BOW",
   "id": "70922eaf28547dab"
  },
  {
   "metadata": {
    "ExecuteTime": {
     "end_time": "2025-03-20T06:15:31.540270Z",
     "start_time": "2025-03-20T06:15:30.504846Z"
    }
   },
   "cell_type": "code",
   "source": [
    "vectorizer = CountVectorizer()\n",
    "X = vectorizer.fit_transform(garminconnect_df['clean_content'])"
   ],
   "id": "192a2644c3bb44d",
   "outputs": [],
   "execution_count": 15
  },
  {
   "metadata": {
    "ExecuteTime": {
     "end_time": "2025-03-20T06:16:17.312035Z",
     "start_time": "2025-03-20T06:16:00.784550Z"
    }
   },
   "cell_type": "code",
   "source": [
    "print(X.toarray())\n",
    "print(vectorizer.get_feature_names_out())"
   ],
   "id": "b718f27f097a49f4",
   "outputs": [
    {
     "name": "stdout",
     "output_type": "stream",
     "text": [
      "[[0 0 0 ... 0 0 0]\n",
      " [0 0 0 ... 0 0 0]\n",
      " [0 0 0 ... 0 0 0]\n",
      " ...\n",
      " [0 0 0 ... 0 0 0]\n",
      " [0 0 0 ... 0 0 0]\n",
      " [0 0 0 ... 0 0 0]]\n",
      "['aa' 'aaa' 'aaaaa' ... 'zx' 'zync' 'zzzzzzzzz']\n"
     ]
    }
   ],
   "execution_count": 18
  },
  {
   "metadata": {},
   "cell_type": "markdown",
   "source": "## TFIDF",
   "id": "f985e34cb8796ca3"
  },
  {
   "metadata": {
    "ExecuteTime": {
     "end_time": "2025-03-20T06:17:52.315142Z",
     "start_time": "2025-03-20T06:17:37.529899Z"
    }
   },
   "cell_type": "code",
   "source": [
    "tfidf_vectorizer = TfidfVectorizer(\n",
    "    stop_words='english',\n",
    "    token_pattern=r'\\b[a-zA-Z]{2,}\\b',\n",
    ")\n",
    "\n",
    "X_tfidf = tfidf_vectorizer.fit_transform(garminconnect_df['clean_content'])\n",
    "\n",
    "print(X_tfidf.toarray())  # TF-IDF matrix\n",
    "print(tfidf_vectorizer.get_feature_names_out())  # vocabulary"
   ],
   "id": "d207cf89be656ce7",
   "outputs": [
    {
     "name": "stdout",
     "output_type": "stream",
     "text": [
      "[[0. 0. 0. ... 0. 0. 0.]\n",
      " [0. 0. 0. ... 0. 0. 0.]\n",
      " [0. 0. 0. ... 0. 0. 0.]\n",
      " ...\n",
      " [0. 0. 0. ... 0. 0. 0.]\n",
      " [0. 0. 0. ... 0. 0. 0.]\n",
      " [0. 0. 0. ... 0. 0. 0.]]\n",
      "['aa' 'aaa' 'aaaaa' ... 'zx' 'zync' 'zzzzzzzzz']\n"
     ]
    }
   ],
   "execution_count": 20
  },
  {
   "metadata": {
    "ExecuteTime": {
     "end_time": "2025-03-20T06:18:05.274927Z",
     "start_time": "2025-03-20T06:17:52.378953Z"
    }
   },
   "cell_type": "code",
   "source": [
    "df_tfidf = pd.DataFrame(X_tfidf.toarray(), columns=tfidf_vectorizer.get_feature_names_out())\n",
    "df_tfidf.head()"
   ],
   "id": "7863d97a666ea593",
   "outputs": [
    {
     "data": {
      "text/plain": [
       "    aa  aaa  aaaaa  aaaaaaaaamaze  aaaaaggggghhhhh  aaaand  aaagh  aaallll  \\\n",
       "0  0.0  0.0    0.0            0.0              0.0     0.0    0.0      0.0   \n",
       "1  0.0  0.0    0.0            0.0              0.0     0.0    0.0      0.0   \n",
       "2  0.0  0.0    0.0            0.0              0.0     0.0    0.0      0.0   \n",
       "3  0.0  0.0    0.0            0.0              0.0     0.0    0.0      0.0   \n",
       "4  0.0  0.0    0.0            0.0              0.0     0.0    0.0      0.0   \n",
       "\n",
       "   aaallllll  aaarrhh  ...  zwangsapp  zwar  zwaszcza  zwei  zwift  zwingend  \\\n",
       "0        0.0      0.0  ...        0.0   0.0       0.0   0.0    0.0       0.0   \n",
       "1        0.0      0.0  ...        0.0   0.0       0.0   0.0    0.0       0.0   \n",
       "2        0.0      0.0  ...        0.0   0.0       0.0   0.0    0.0       0.0   \n",
       "3        0.0      0.0  ...        0.0   0.0       0.0   0.0    0.0       0.0   \n",
       "4        0.0      0.0  ...        0.0   0.0       0.0   0.0    0.0       0.0   \n",
       "\n",
       "   zwischen   zx  zync  zzzzzzzzz  \n",
       "0       0.0  0.0   0.0        0.0  \n",
       "1       0.0  0.0   0.0        0.0  \n",
       "2       0.0  0.0   0.0        0.0  \n",
       "3       0.0  0.0   0.0        0.0  \n",
       "4       0.0  0.0   0.0        0.0  \n",
       "\n",
       "[5 rows x 27671 columns]"
      ],
      "text/html": [
       "<div>\n",
       "<style scoped>\n",
       "    .dataframe tbody tr th:only-of-type {\n",
       "        vertical-align: middle;\n",
       "    }\n",
       "\n",
       "    .dataframe tbody tr th {\n",
       "        vertical-align: top;\n",
       "    }\n",
       "\n",
       "    .dataframe thead th {\n",
       "        text-align: right;\n",
       "    }\n",
       "</style>\n",
       "<table border=\"1\" class=\"dataframe\">\n",
       "  <thead>\n",
       "    <tr style=\"text-align: right;\">\n",
       "      <th></th>\n",
       "      <th>aa</th>\n",
       "      <th>aaa</th>\n",
       "      <th>aaaaa</th>\n",
       "      <th>aaaaaaaaamaze</th>\n",
       "      <th>aaaaaggggghhhhh</th>\n",
       "      <th>aaaand</th>\n",
       "      <th>aaagh</th>\n",
       "      <th>aaallll</th>\n",
       "      <th>aaallllll</th>\n",
       "      <th>aaarrhh</th>\n",
       "      <th>...</th>\n",
       "      <th>zwangsapp</th>\n",
       "      <th>zwar</th>\n",
       "      <th>zwaszcza</th>\n",
       "      <th>zwei</th>\n",
       "      <th>zwift</th>\n",
       "      <th>zwingend</th>\n",
       "      <th>zwischen</th>\n",
       "      <th>zx</th>\n",
       "      <th>zync</th>\n",
       "      <th>zzzzzzzzz</th>\n",
       "    </tr>\n",
       "  </thead>\n",
       "  <tbody>\n",
       "    <tr>\n",
       "      <th>0</th>\n",
       "      <td>0.0</td>\n",
       "      <td>0.0</td>\n",
       "      <td>0.0</td>\n",
       "      <td>0.0</td>\n",
       "      <td>0.0</td>\n",
       "      <td>0.0</td>\n",
       "      <td>0.0</td>\n",
       "      <td>0.0</td>\n",
       "      <td>0.0</td>\n",
       "      <td>0.0</td>\n",
       "      <td>...</td>\n",
       "      <td>0.0</td>\n",
       "      <td>0.0</td>\n",
       "      <td>0.0</td>\n",
       "      <td>0.0</td>\n",
       "      <td>0.0</td>\n",
       "      <td>0.0</td>\n",
       "      <td>0.0</td>\n",
       "      <td>0.0</td>\n",
       "      <td>0.0</td>\n",
       "      <td>0.0</td>\n",
       "    </tr>\n",
       "    <tr>\n",
       "      <th>1</th>\n",
       "      <td>0.0</td>\n",
       "      <td>0.0</td>\n",
       "      <td>0.0</td>\n",
       "      <td>0.0</td>\n",
       "      <td>0.0</td>\n",
       "      <td>0.0</td>\n",
       "      <td>0.0</td>\n",
       "      <td>0.0</td>\n",
       "      <td>0.0</td>\n",
       "      <td>0.0</td>\n",
       "      <td>...</td>\n",
       "      <td>0.0</td>\n",
       "      <td>0.0</td>\n",
       "      <td>0.0</td>\n",
       "      <td>0.0</td>\n",
       "      <td>0.0</td>\n",
       "      <td>0.0</td>\n",
       "      <td>0.0</td>\n",
       "      <td>0.0</td>\n",
       "      <td>0.0</td>\n",
       "      <td>0.0</td>\n",
       "    </tr>\n",
       "    <tr>\n",
       "      <th>2</th>\n",
       "      <td>0.0</td>\n",
       "      <td>0.0</td>\n",
       "      <td>0.0</td>\n",
       "      <td>0.0</td>\n",
       "      <td>0.0</td>\n",
       "      <td>0.0</td>\n",
       "      <td>0.0</td>\n",
       "      <td>0.0</td>\n",
       "      <td>0.0</td>\n",
       "      <td>0.0</td>\n",
       "      <td>...</td>\n",
       "      <td>0.0</td>\n",
       "      <td>0.0</td>\n",
       "      <td>0.0</td>\n",
       "      <td>0.0</td>\n",
       "      <td>0.0</td>\n",
       "      <td>0.0</td>\n",
       "      <td>0.0</td>\n",
       "      <td>0.0</td>\n",
       "      <td>0.0</td>\n",
       "      <td>0.0</td>\n",
       "    </tr>\n",
       "    <tr>\n",
       "      <th>3</th>\n",
       "      <td>0.0</td>\n",
       "      <td>0.0</td>\n",
       "      <td>0.0</td>\n",
       "      <td>0.0</td>\n",
       "      <td>0.0</td>\n",
       "      <td>0.0</td>\n",
       "      <td>0.0</td>\n",
       "      <td>0.0</td>\n",
       "      <td>0.0</td>\n",
       "      <td>0.0</td>\n",
       "      <td>...</td>\n",
       "      <td>0.0</td>\n",
       "      <td>0.0</td>\n",
       "      <td>0.0</td>\n",
       "      <td>0.0</td>\n",
       "      <td>0.0</td>\n",
       "      <td>0.0</td>\n",
       "      <td>0.0</td>\n",
       "      <td>0.0</td>\n",
       "      <td>0.0</td>\n",
       "      <td>0.0</td>\n",
       "    </tr>\n",
       "    <tr>\n",
       "      <th>4</th>\n",
       "      <td>0.0</td>\n",
       "      <td>0.0</td>\n",
       "      <td>0.0</td>\n",
       "      <td>0.0</td>\n",
       "      <td>0.0</td>\n",
       "      <td>0.0</td>\n",
       "      <td>0.0</td>\n",
       "      <td>0.0</td>\n",
       "      <td>0.0</td>\n",
       "      <td>0.0</td>\n",
       "      <td>...</td>\n",
       "      <td>0.0</td>\n",
       "      <td>0.0</td>\n",
       "      <td>0.0</td>\n",
       "      <td>0.0</td>\n",
       "      <td>0.0</td>\n",
       "      <td>0.0</td>\n",
       "      <td>0.0</td>\n",
       "      <td>0.0</td>\n",
       "      <td>0.0</td>\n",
       "      <td>0.0</td>\n",
       "    </tr>\n",
       "  </tbody>\n",
       "</table>\n",
       "<p>5 rows × 27671 columns</p>\n",
       "</div>"
      ]
     },
     "execution_count": 21,
     "metadata": {},
     "output_type": "execute_result"
    }
   ],
   "execution_count": 21
  }
 ],
 "metadata": {
  "kernelspec": {
   "display_name": "Python 3",
   "language": "python",
   "name": "python3"
  },
  "language_info": {
   "codemirror_mode": {
    "name": "ipython",
    "version": 2
   },
   "file_extension": ".py",
   "mimetype": "text/x-python",
   "name": "python",
   "nbconvert_exporter": "python",
   "pygments_lexer": "ipython2",
   "version": "2.7.6"
  }
 },
 "nbformat": 4,
 "nbformat_minor": 5
}
