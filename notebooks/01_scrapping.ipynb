{
 "cells": [
  {
   "metadata": {
    "ExecuteTime": {
     "end_time": "2025-03-13T05:27:29.057341Z",
     "start_time": "2025-03-13T05:27:28.599471Z"
    }
   },
   "cell_type": "code",
   "source": [
    "from google_play_scraper import Sort, reviews_all\n",
    "import pandas as pd\n",
    "import numpy as np\n",
    "import datetime"
   ],
   "id": "7f3ac410622342c2",
   "outputs": [],
   "execution_count": 1
  },
  {
   "metadata": {
    "ExecuteTime": {
     "end_time": "2025-03-13T05:29:57.231556Z",
     "start_time": "2025-03-13T05:28:35.308966Z"
    }
   },
   "cell_type": "code",
   "source": [
    "garminconnect_reviews = reviews_all(\n",
    "    'com.garmin.android.apps.connectmobile',\n",
    "    sleep_milliseconds=0,\n",
    "    lang='en',\n",
    "    sort=Sort.NEWEST,\n",
    ")"
   ],
   "id": "e3685baa11ead34a",
   "outputs": [],
   "execution_count": 3
  },
  {
   "metadata": {
    "ExecuteTime": {
     "end_time": "2025-03-13T05:33:59.430186Z",
     "start_time": "2025-03-13T05:33:59.120010Z"
    }
   },
   "cell_type": "code",
   "source": "garminconnect_df = pd.DataFrame(garminconnect_reviews)",
   "id": "dec6e34f7a72aefc",
   "outputs": [],
   "execution_count": 6
  },
  {
   "metadata": {
    "ExecuteTime": {
     "end_time": "2025-03-13T05:34:02.826730Z",
     "start_time": "2025-03-13T05:34:01.628622Z"
    }
   },
   "cell_type": "code",
   "source": [
    "date_today = datetime.datetime.today().strftime(\"%Y%m%d_%H%M\")\n",
    "garminconnect_df.to_csv(f\"../data/raw/{date_today}_garminconnect_gplay_reviews.csv\", index=False)"
   ],
   "id": "f0fcefbe6422cf39",
   "outputs": [],
   "execution_count": 7
  }
 ],
 "metadata": {
  "kernelspec": {
   "display_name": "Python 3",
   "language": "python",
   "name": "python3"
  },
  "language_info": {
   "codemirror_mode": {
    "name": "ipython",
    "version": 2
   },
   "file_extension": ".py",
   "mimetype": "text/x-python",
   "name": "python",
   "nbconvert_exporter": "python",
   "pygments_lexer": "ipython2",
   "version": "2.7.6"
  }
 },
 "nbformat": 4,
 "nbformat_minor": 5
}
