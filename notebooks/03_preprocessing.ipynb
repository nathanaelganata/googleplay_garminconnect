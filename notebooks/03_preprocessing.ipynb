{
 "cells": [
  {
   "metadata": {
    "ExecuteTime": {
     "end_time": "2025-03-13T05:48:52.244308Z",
     "start_time": "2025-03-13T05:48:51.886645Z"
    }
   },
   "cell_type": "code",
   "source": [
    "import nltk\n",
    "import os\n",
    "\n",
    "nltk_data_path = \"../data/libs/nltk_data\"\n",
    "\n",
    "os.makedirs(nltk_data_path, exist_ok=True)\n",
    "\n",
    "nltk.data.path.append(nltk_data_path)\n",
    "\n",
    "nltk.download('stopwords', download_dir=nltk_data_path)\n",
    "# nltk.download('wordnet', download_dir=nltk_data_path)\n",
    "# nltk.download('omw-1.4', download_dir=nltk_data_path)\n",
    "# nltk.download('punkt_tab', download_dir=nltk_data_path)\n",
    "\n",
    "print(f\"NLTK Data Path: {nltk.data.path}\")"
   ],
   "id": "e84559b1ea45c3d3",
   "outputs": [
    {
     "name": "stderr",
     "output_type": "stream",
     "text": [
      "[nltk_data] Downloading package stopwords to ../data/libs/nltk_data...\n"
     ]
    },
    {
     "name": "stdout",
     "output_type": "stream",
     "text": [
      "NLTK Data Path: ['/home/miellilas/nltk_data', '/home/miellilas/Documents/pba/googleplay_garminconnect/venv/nltk_data', '/home/miellilas/Documents/pba/googleplay_garminconnect/venv/share/nltk_data', '/home/miellilas/Documents/pba/googleplay_garminconnect/venv/lib/nltk_data', '/usr/share/nltk_data', '/usr/local/share/nltk_data', '/usr/lib/nltk_data', '/usr/local/lib/nltk_data', '../../data/libs/nltk_data', '../data/libs/nltk_data']\n"
     ]
    },
    {
     "name": "stderr",
     "output_type": "stream",
     "text": [
      "[nltk_data]   Unzipping corpora/stopwords.zip.\n"
     ]
    }
   ],
   "execution_count": 4
  },
  {
   "cell_type": "code",
   "id": "initial_id",
   "metadata": {
    "collapsed": true,
    "ExecuteTime": {
     "end_time": "2025-03-13T05:53:15.884966Z",
     "start_time": "2025-03-13T05:53:15.383431Z"
    }
   },
   "source": [
    "import pandas as pd\n",
    "import re\n",
    "import spacy\n",
    "from nltk.corpus import stopwords\n",
    "import datetime\n",
    "\n",
    "nlp = spacy.load('en_core_web_sm')\n",
    "\n",
    "stop_words = set(stopwords.words('english'))\n",
    "\n",
    "nltk_data_path = \"../data/libs/nltk_data\"\n",
    "nltk.data.path.append(nltk_data_path)"
   ],
   "outputs": [],
   "execution_count": 9
  },
  {
   "metadata": {
    "ExecuteTime": {
     "end_time": "2025-03-13T05:49:55.614327Z",
     "start_time": "2025-03-13T05:49:55.060430Z"
    }
   },
   "cell_type": "code",
   "source": [
    "garminconnect_df = pd.read_csv(\"../data/raw/20250313_1234_garminconnect_gplay_reviews.csv\")\n",
    "garminconnect_df.head()"
   ],
   "id": "7fa5ee816e485efc",
   "outputs": [
    {
     "data": {
      "text/plain": [
       "                               reviewId       userName  \\\n",
       "0  ff93503a-df4d-48ca-b1bf-4021a67900cb  A Google user   \n",
       "1  6e147f11-76a6-4971-bb4a-41d0d2a2f8d0  A Google user   \n",
       "2  004dafcd-a440-434d-a052-a96b935a39df  A Google user   \n",
       "3  f52f11f3-8c6e-41b3-a17c-963cbfbb2ad8  A Google user   \n",
       "4  8ebbecf7-da22-4bdd-b43a-4729494212d9  A Google user   \n",
       "\n",
       "                                           userImage  \\\n",
       "0  https://play-lh.googleusercontent.com/EGemoI2N...   \n",
       "1  https://play-lh.googleusercontent.com/EGemoI2N...   \n",
       "2  https://play-lh.googleusercontent.com/EGemoI2N...   \n",
       "3  https://play-lh.googleusercontent.com/EGemoI2N...   \n",
       "4  https://play-lh.googleusercontent.com/EGemoI2N...   \n",
       "\n",
       "                                             content  score  thumbsUpCount  \\\n",
       "0  Hate the new layout. Trying to figure out how ...      2              2   \n",
       "1                     Love it, helps me tremendously      5              0   \n",
       "2                             Very Good and carefree      5              0   \n",
       "3  Latest update wont allow me to create a workou...      2              0   \n",
       "4  Much better than fitbit, no issues syncing my ...      5              0   \n",
       "\n",
       "  reviewCreatedVersion                   at replyContent repliedAt appVersion  \n",
       "0                 5.10  2025-03-12 07:03:48          NaN       NaN       5.10  \n",
       "1                 5.10  2025-03-12 06:42:08          NaN       NaN       5.10  \n",
       "2                 5.10  2025-03-12 05:05:14          NaN       NaN       5.10  \n",
       "3                 5.10  2025-03-12 03:59:57          NaN       NaN       5.10  \n",
       "4                 5.10  2025-03-12 02:37:58          NaN       NaN       5.10  "
      ],
      "text/html": [
       "<div>\n",
       "<style scoped>\n",
       "    .dataframe tbody tr th:only-of-type {\n",
       "        vertical-align: middle;\n",
       "    }\n",
       "\n",
       "    .dataframe tbody tr th {\n",
       "        vertical-align: top;\n",
       "    }\n",
       "\n",
       "    .dataframe thead th {\n",
       "        text-align: right;\n",
       "    }\n",
       "</style>\n",
       "<table border=\"1\" class=\"dataframe\">\n",
       "  <thead>\n",
       "    <tr style=\"text-align: right;\">\n",
       "      <th></th>\n",
       "      <th>reviewId</th>\n",
       "      <th>userName</th>\n",
       "      <th>userImage</th>\n",
       "      <th>content</th>\n",
       "      <th>score</th>\n",
       "      <th>thumbsUpCount</th>\n",
       "      <th>reviewCreatedVersion</th>\n",
       "      <th>at</th>\n",
       "      <th>replyContent</th>\n",
       "      <th>repliedAt</th>\n",
       "      <th>appVersion</th>\n",
       "    </tr>\n",
       "  </thead>\n",
       "  <tbody>\n",
       "    <tr>\n",
       "      <th>0</th>\n",
       "      <td>ff93503a-df4d-48ca-b1bf-4021a67900cb</td>\n",
       "      <td>A Google user</td>\n",
       "      <td>https://play-lh.googleusercontent.com/EGemoI2N...</td>\n",
       "      <td>Hate the new layout. Trying to figure out how ...</td>\n",
       "      <td>2</td>\n",
       "      <td>2</td>\n",
       "      <td>5.10</td>\n",
       "      <td>2025-03-12 07:03:48</td>\n",
       "      <td>NaN</td>\n",
       "      <td>NaN</td>\n",
       "      <td>5.10</td>\n",
       "    </tr>\n",
       "    <tr>\n",
       "      <th>1</th>\n",
       "      <td>6e147f11-76a6-4971-bb4a-41d0d2a2f8d0</td>\n",
       "      <td>A Google user</td>\n",
       "      <td>https://play-lh.googleusercontent.com/EGemoI2N...</td>\n",
       "      <td>Love it, helps me tremendously</td>\n",
       "      <td>5</td>\n",
       "      <td>0</td>\n",
       "      <td>5.10</td>\n",
       "      <td>2025-03-12 06:42:08</td>\n",
       "      <td>NaN</td>\n",
       "      <td>NaN</td>\n",
       "      <td>5.10</td>\n",
       "    </tr>\n",
       "    <tr>\n",
       "      <th>2</th>\n",
       "      <td>004dafcd-a440-434d-a052-a96b935a39df</td>\n",
       "      <td>A Google user</td>\n",
       "      <td>https://play-lh.googleusercontent.com/EGemoI2N...</td>\n",
       "      <td>Very Good and carefree</td>\n",
       "      <td>5</td>\n",
       "      <td>0</td>\n",
       "      <td>5.10</td>\n",
       "      <td>2025-03-12 05:05:14</td>\n",
       "      <td>NaN</td>\n",
       "      <td>NaN</td>\n",
       "      <td>5.10</td>\n",
       "    </tr>\n",
       "    <tr>\n",
       "      <th>3</th>\n",
       "      <td>f52f11f3-8c6e-41b3-a17c-963cbfbb2ad8</td>\n",
       "      <td>A Google user</td>\n",
       "      <td>https://play-lh.googleusercontent.com/EGemoI2N...</td>\n",
       "      <td>Latest update wont allow me to create a workou...</td>\n",
       "      <td>2</td>\n",
       "      <td>0</td>\n",
       "      <td>5.10</td>\n",
       "      <td>2025-03-12 03:59:57</td>\n",
       "      <td>NaN</td>\n",
       "      <td>NaN</td>\n",
       "      <td>5.10</td>\n",
       "    </tr>\n",
       "    <tr>\n",
       "      <th>4</th>\n",
       "      <td>8ebbecf7-da22-4bdd-b43a-4729494212d9</td>\n",
       "      <td>A Google user</td>\n",
       "      <td>https://play-lh.googleusercontent.com/EGemoI2N...</td>\n",
       "      <td>Much better than fitbit, no issues syncing my ...</td>\n",
       "      <td>5</td>\n",
       "      <td>0</td>\n",
       "      <td>5.10</td>\n",
       "      <td>2025-03-12 02:37:58</td>\n",
       "      <td>NaN</td>\n",
       "      <td>NaN</td>\n",
       "      <td>5.10</td>\n",
       "    </tr>\n",
       "  </tbody>\n",
       "</table>\n",
       "</div>"
      ]
     },
     "execution_count": 7,
     "metadata": {},
     "output_type": "execute_result"
    }
   ],
   "execution_count": 7
  },
  {
   "metadata": {
    "ExecuteTime": {
     "end_time": "2025-03-13T05:53:29.507077Z",
     "start_time": "2025-03-13T05:53:29.502028Z"
    }
   },
   "cell_type": "code",
   "source": [
    "def preprocess_text(text):\n",
    "    if not isinstance(text, str):\n",
    "        return \"\"\n",
    "\n",
    "    text = text.lower()\n",
    "\n",
    "    text = re.sub(r\"http\\S+|www\\S+|@\\w+|#\\w+|\\S+@\\S+\", \"\", text)\n",
    "\n",
    "    text = re.sub(r\"[^a-z\\s]\", \"\", text)\n",
    "\n",
    "    doc = nlp(text)\n",
    "\n",
    "    tokens = [\n",
    "        token.lemma_ for token in doc\n",
    "        if token.lemma_ not in stop_words\n",
    "        and token.is_alpha\n",
    "        and len(token.lemma_) > 2\n",
    "    ]\n",
    "\n",
    "    # 6. Return cleaned text\n",
    "    return \" \".join(tokens)\n"
   ],
   "id": "6cb4b34e644bf9c",
   "outputs": [],
   "execution_count": 10
  },
  {
   "metadata": {
    "ExecuteTime": {
     "end_time": "2025-03-13T06:07:28.208495Z",
     "start_time": "2025-03-13T05:53:31.908Z"
    }
   },
   "cell_type": "code",
   "source": [
    "garminconnect_df['clean_content'] = garminconnect_df['content'].apply(preprocess_text)\n",
    "\n",
    "garminconnect_df = garminconnect_df[garminconnect_df['clean_content'].str.strip().astype(bool)]"
   ],
   "id": "f6f5e90eab93bbf4",
   "outputs": [],
   "execution_count": 11
  },
  {
   "metadata": {
    "ExecuteTime": {
     "end_time": "2025-03-13T06:07:29.277139Z",
     "start_time": "2025-03-13T06:07:28.226706Z"
    }
   },
   "cell_type": "code",
   "source": [
    "date_today = datetime.datetime.today().strftime(\"%Y%m%d_%H%M\")\n",
    "garminconnect_df.to_csv(f\"../data/processed/{date_today}_garminconnect_df_cleaned.csv\", index=False)"
   ],
   "id": "34f31433b92697a2",
   "outputs": [],
   "execution_count": 12
  },
  {
   "metadata": {
    "ExecuteTime": {
     "end_time": "2025-03-13T06:07:54.760456Z",
     "start_time": "2025-03-13T06:07:54.743768Z"
    }
   },
   "cell_type": "code",
   "source": "garminconnect_df[[\"content\", \"clean_content\"]]",
   "id": "7dd4145fdb6d6d63",
   "outputs": [
    {
     "data": {
      "text/plain": [
       "                                                  content  \\\n",
       "0       Hate the new layout. Trying to figure out how ...   \n",
       "1                          Love it, helps me tremendously   \n",
       "2                                  Very Good and carefree   \n",
       "3       Latest update wont allow me to create a workou...   \n",
       "4       Much better than fitbit, no issues syncing my ...   \n",
       "...                                                   ...   \n",
       "125851  The edge 810 works well until I pair it with e...   \n",
       "125852  As soon as I launch Connect on my phone, my 81...   \n",
       "125853                  Why no power data for cycling!!!!   \n",
       "125854  I can't seem to send a prepared course (on the...   \n",
       "125855                              dont work with 910 xt   \n",
       "\n",
       "                                            clean_content  \n",
       "0       hate new layout try figure load previous versi...  \n",
       "1                                  love help tremendously  \n",
       "2                                           good carefree  \n",
       "3       late update allow create workout category run ...  \n",
       "4                     much well fitbit issue sync workout  \n",
       "...                                                   ...  \n",
       "125851  edge work well pair either htc samsung nexus p...  \n",
       "125852  soon launch connect phone turn happen connect ...  \n",
       "125853                                power datum cycling  \n",
       "125854  seem send prepared course garmin connect websi...  \n",
       "125855                                               work  \n",
       "\n",
       "[124977 rows x 2 columns]"
      ],
      "text/html": [
       "<div>\n",
       "<style scoped>\n",
       "    .dataframe tbody tr th:only-of-type {\n",
       "        vertical-align: middle;\n",
       "    }\n",
       "\n",
       "    .dataframe tbody tr th {\n",
       "        vertical-align: top;\n",
       "    }\n",
       "\n",
       "    .dataframe thead th {\n",
       "        text-align: right;\n",
       "    }\n",
       "</style>\n",
       "<table border=\"1\" class=\"dataframe\">\n",
       "  <thead>\n",
       "    <tr style=\"text-align: right;\">\n",
       "      <th></th>\n",
       "      <th>content</th>\n",
       "      <th>clean_content</th>\n",
       "    </tr>\n",
       "  </thead>\n",
       "  <tbody>\n",
       "    <tr>\n",
       "      <th>0</th>\n",
       "      <td>Hate the new layout. Trying to figure out how ...</td>\n",
       "      <td>hate new layout try figure load previous versi...</td>\n",
       "    </tr>\n",
       "    <tr>\n",
       "      <th>1</th>\n",
       "      <td>Love it, helps me tremendously</td>\n",
       "      <td>love help tremendously</td>\n",
       "    </tr>\n",
       "    <tr>\n",
       "      <th>2</th>\n",
       "      <td>Very Good and carefree</td>\n",
       "      <td>good carefree</td>\n",
       "    </tr>\n",
       "    <tr>\n",
       "      <th>3</th>\n",
       "      <td>Latest update wont allow me to create a workou...</td>\n",
       "      <td>late update allow create workout category run ...</td>\n",
       "    </tr>\n",
       "    <tr>\n",
       "      <th>4</th>\n",
       "      <td>Much better than fitbit, no issues syncing my ...</td>\n",
       "      <td>much well fitbit issue sync workout</td>\n",
       "    </tr>\n",
       "    <tr>\n",
       "      <th>...</th>\n",
       "      <td>...</td>\n",
       "      <td>...</td>\n",
       "    </tr>\n",
       "    <tr>\n",
       "      <th>125851</th>\n",
       "      <td>The edge 810 works well until I pair it with e...</td>\n",
       "      <td>edge work well pair either htc samsung nexus p...</td>\n",
       "    </tr>\n",
       "    <tr>\n",
       "      <th>125852</th>\n",
       "      <td>As soon as I launch Connect on my phone, my 81...</td>\n",
       "      <td>soon launch connect phone turn happen connect ...</td>\n",
       "    </tr>\n",
       "    <tr>\n",
       "      <th>125853</th>\n",
       "      <td>Why no power data for cycling!!!!</td>\n",
       "      <td>power datum cycling</td>\n",
       "    </tr>\n",
       "    <tr>\n",
       "      <th>125854</th>\n",
       "      <td>I can't seem to send a prepared course (on the...</td>\n",
       "      <td>seem send prepared course garmin connect websi...</td>\n",
       "    </tr>\n",
       "    <tr>\n",
       "      <th>125855</th>\n",
       "      <td>dont work with 910 xt</td>\n",
       "      <td>work</td>\n",
       "    </tr>\n",
       "  </tbody>\n",
       "</table>\n",
       "<p>124977 rows × 2 columns</p>\n",
       "</div>"
      ]
     },
     "execution_count": 14,
     "metadata": {},
     "output_type": "execute_result"
    }
   ],
   "execution_count": 14
  }
 ],
 "metadata": {
  "kernelspec": {
   "display_name": "Python 3",
   "language": "python",
   "name": "python3"
  },
  "language_info": {
   "codemirror_mode": {
    "name": "ipython",
    "version": 2
   },
   "file_extension": ".py",
   "mimetype": "text/x-python",
   "name": "python",
   "nbconvert_exporter": "python",
   "pygments_lexer": "ipython2",
   "version": "2.7.6"
  }
 },
 "nbformat": 4,
 "nbformat_minor": 5
}
